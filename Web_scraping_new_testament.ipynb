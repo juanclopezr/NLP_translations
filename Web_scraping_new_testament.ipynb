{
 "cells": [
  {
   "cell_type": "code",
   "execution_count": 37,
   "id": "2e2be5db",
   "metadata": {},
   "outputs": [],
   "source": [
    "import requests\n",
    "import re\n",
    "from bs4 import BeautifulSoup\n",
    "import pandas as pd\n",
    "import json\n",
    "from collections import OrderedDict"
   ]
  },
  {
   "cell_type": "code",
   "execution_count": 9,
   "id": "39efdb1c",
   "metadata": {},
   "outputs": [],
   "source": [
    "bible_book_indexes = OrderedDict()\n",
    "\n",
    "books = ['MAT', 'MRK', 'LUK',\n",
    "         'JHN', 'ACT', 'ROM',\n",
    "         '1CO', '2CO', 'GAL',\n",
    "         'EPH', 'PHP', 'COL',\n",
    "         '1TH', '2TH', '1TI',\n",
    "         '2TI', 'TIT', 'PHM',\n",
    "         'HEB', 'JAS', '1PE',\n",
    "         '2PE', '1JN', '2JN',\n",
    "         '3JN', 'JUD', 'REV']\n",
    "values = [28, 16, 24,\n",
    "          21, 28, 16,\n",
    "          16, 13, 6,\n",
    "          6, 4, 4,\n",
    "          5, 3, 6,\n",
    "          4, 3, 1,\n",
    "          13, 5, 5,\n",
    "          3, 5, 1,\n",
    "          1, 1, 22]\n",
    "for i in range(len(books)):\n",
    "    bible_book_indexes[books[i]] = values[i]"
   ]
  },
  {
   "cell_type": "code",
   "execution_count": 62,
   "id": "be640e59",
   "metadata": {},
   "outputs": [],
   "source": [
    "def extract_nasa(book, value, index):\n",
    "    chapter = requests.get(f'https://www.scriptureearth.org/data/pbb/sab/pbbT/pbb-{index:02}-{book}-{value:03}.html').text\n",
    "    soup = BeautifulSoup(chapter, 'html.parser')\n",
    "    texts = soup.find_all('div', attrs={'class': 'txs'})\n",
    "    attr = 0\n",
    "    verses = []\n",
    "    for i in texts:\n",
    "        new_at = int(re.sub(r'[^0-9]', '', i.attrs['id']))\n",
    "        if new_at != attr:\n",
    "            verses.append(i.text)\n",
    "            attr = new_at\n",
    "        else:\n",
    "            verses[-1] = verses[-1] + ' ' + i.text\n",
    "    return verses"
   ]
  },
  {
   "cell_type": "code",
   "execution_count": 63,
   "id": "92c9e0fc",
   "metadata": {},
   "outputs": [],
   "source": [
    "index = 1\n",
    "all_verses_nasa = []\n",
    "for i in bible_book_indexes:\n",
    "    for j in range(bible_book_indexes[i]):\n",
    "        all_verses_nasa.append(extract_nasa(i, j+1, index))\n",
    "    index += 1"
   ]
  },
  {
   "cell_type": "code",
   "execution_count": 64,
   "id": "3fc77767",
   "metadata": {},
   "outputs": [
    {
     "data": {
      "text/plain": [
       "260"
      ]
     },
     "execution_count": 64,
     "metadata": {},
     "output_type": "execute_result"
    }
   ],
   "source": [
    "len(all_verses_nasa)"
   ]
  },
  {
   "cell_type": "code",
   "execution_count": 65,
   "id": "a396bb99",
   "metadata": {},
   "outputs": [
    {
     "data": {
      "text/plain": [
       "260"
      ]
     },
     "execution_count": 65,
     "metadata": {},
     "output_type": "execute_result"
    }
   ],
   "source": [
    "sum(values)"
   ]
  },
  {
   "cell_type": "code",
   "execution_count": 66,
   "id": "a7f67b15",
   "metadata": {},
   "outputs": [],
   "source": [
    "nasa_texts = ''\n",
    "for i in all_verses_nasa:\n",
    "    for j in i:\n",
    "        nasa_texts += j + '\\n'"
   ]
  },
  {
   "cell_type": "code",
   "execution_count": 131,
   "id": "4ab688b0",
   "metadata": {},
   "outputs": [],
   "source": [
    "nasa_texts = re.sub(r'[0-9]', '', nasa_texts)"
   ]
  },
  {
   "cell_type": "code",
   "execution_count": 133,
   "id": "20d0789a",
   "metadata": {},
   "outputs": [],
   "source": [
    "with open('New_testament_pbb.txt', 'w') as f:\n",
    "    f.write(nasa_texts)"
   ]
  },
  {
   "cell_type": "code",
   "execution_count": 117,
   "id": "3169048c",
   "metadata": {},
   "outputs": [],
   "source": [
    "def extract_spanish(book, value):\n",
    "    chapter = requests.get(f'https://www.bible.com/es/bible/149/{book}.{value}.RVR1960').text\n",
    "    soup = BeautifulSoup(chapter, 'html.parser')\n",
    "    texts = soup.find_all('span', attrs={'class': 'ChapterContent_verse__57FIw'})\n",
    "    verses = []\n",
    "    for i in texts:\n",
    "        if len(i.text.strip()) > 0:\n",
    "            if i.text[0].isnumeric():\n",
    "                verses.append(i.text)\n",
    "            else:\n",
    "                verses[-1] = verses[-1] + ' ' + i.text\n",
    "    return verses"
   ]
  },
  {
   "cell_type": "code",
   "execution_count": 118,
   "id": "d1b7624a",
   "metadata": {},
   "outputs": [],
   "source": [
    "all_verses_spanish = []\n",
    "for i in bible_book_indexes:\n",
    "    for j in range(bible_book_indexes[i]):\n",
    "        all_verses_spanish.append(extract_spanish(i, j+1))"
   ]
  },
  {
   "cell_type": "code",
   "execution_count": 88,
   "id": "695e17a5",
   "metadata": {},
   "outputs": [],
   "source": [
    "all_verses_spanish_clean = []\n",
    "for i in all_verses_spanish:\n",
    "    temp = [j for j in i if len(j.strip()) > 0]\n",
    "    all_verses_spanish_clean.append(temp)"
   ]
  },
  {
   "cell_type": "code",
   "execution_count": 135,
   "id": "ee6cef3c",
   "metadata": {},
   "outputs": [],
   "source": [
    "spanish_texts = ''\n",
    "for i in all_verses_spanish:\n",
    "    for j in i:\n",
    "        spanish_texts += j + '\\n'"
   ]
  },
  {
   "cell_type": "code",
   "execution_count": 136,
   "id": "577ced54",
   "metadata": {},
   "outputs": [],
   "source": [
    "spanish_texts = re.sub(r'[0-9]', '', spanish_texts)"
   ]
  },
  {
   "cell_type": "code",
   "execution_count": 137,
   "id": "11993ca4",
   "metadata": {},
   "outputs": [],
   "source": [
    "with open('New_testament_spa.txt', 'w') as f:\n",
    "    f.write(spanish_texts)"
   ]
  },
  {
   "cell_type": "code",
   "execution_count": 141,
   "id": "a8b5a6e8",
   "metadata": {},
   "outputs": [],
   "source": [
    "def extract_wayu(book, value, index):\n",
    "    chapter = requests.get(f'https://www.scriptureearth.org/data/guc/sab/guc/guc-{index:02}-{book}-{value:03}.html').text\n",
    "    soup = BeautifulSoup(chapter, 'html.parser')\n",
    "    texts = soup.find_all('div', attrs={'class': 'txs'})\n",
    "    attr = 0\n",
    "    verses = []\n",
    "    for i in texts:\n",
    "        new_at = int(re.sub(r'[^0-9]', '', i.attrs['id']))\n",
    "        if new_at != attr:\n",
    "            verses.append(i.text)\n",
    "            attr = new_at\n",
    "        else:\n",
    "            verses[-1] = verses[-1] + ' ' + i.text\n",
    "    return verses"
   ]
  },
  {
   "cell_type": "code",
   "execution_count": 142,
   "id": "539cf6d9",
   "metadata": {},
   "outputs": [],
   "source": [
    "index = 1\n",
    "all_verses_wayu = []\n",
    "for i in bible_book_indexes:\n",
    "    for j in range(bible_book_indexes[i]):\n",
    "        all_verses_wayu.append(extract_wayu(i, j+1, index))\n",
    "    index += 1"
   ]
  },
  {
   "cell_type": "code",
   "execution_count": 143,
   "id": "c410c340",
   "metadata": {},
   "outputs": [
    {
     "data": {
      "text/plain": [
       "260"
      ]
     },
     "execution_count": 143,
     "metadata": {},
     "output_type": "execute_result"
    }
   ],
   "source": [
    "len(all_verses_wayu)"
   ]
  },
  {
   "cell_type": "code",
   "execution_count": 144,
   "id": "1186e37a",
   "metadata": {},
   "outputs": [],
   "source": [
    "wayu_texts = ''\n",
    "for i in all_verses_wayu:\n",
    "    for j in i:\n",
    "        wayu_texts += j + '\\n'"
   ]
  },
  {
   "cell_type": "code",
   "execution_count": 145,
   "id": "f516c4ad",
   "metadata": {},
   "outputs": [],
   "source": [
    "wayu_texts = re.sub(r'[0-9]', '', wayu_texts)"
   ]
  },
  {
   "cell_type": "code",
   "execution_count": 146,
   "id": "51a06426",
   "metadata": {},
   "outputs": [],
   "source": [
    "with open('New_testament_guc.txt', 'w') as f:\n",
    "    f.write(wayu_texts)"
   ]
  },
  {
   "cell_type": "code",
   "execution_count": null,
   "id": "171f9b99",
   "metadata": {},
   "outputs": [],
   "source": []
  }
 ],
 "metadata": {
  "kernelspec": {
   "display_name": "Python 3 (ipykernel)",
   "language": "python",
   "name": "python3"
  },
  "language_info": {
   "codemirror_mode": {
    "name": "ipython",
    "version": 3
   },
   "file_extension": ".py",
   "mimetype": "text/x-python",
   "name": "python",
   "nbconvert_exporter": "python",
   "pygments_lexer": "ipython3",
   "version": "3.10.9"
  }
 },
 "nbformat": 4,
 "nbformat_minor": 5
}
